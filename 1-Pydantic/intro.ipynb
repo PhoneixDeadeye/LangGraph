{
 "cells": [
  {
   "cell_type": "markdown",
   "id": "9d88238e",
   "metadata": {},
   "source": [
    "#### Pydantic Basics: Creating and Using Models\n",
    "Pydantic models are the foundation of data validation in Python. They use Python type annotations to define the structure and validate data at runtime. Here's a detailed exploration of basic model creation with examples."
   ]
  },
  {
   "cell_type": "code",
   "execution_count": 1,
   "id": "beb95648",
   "metadata": {},
   "outputs": [],
   "source": [
    "from pydantic import BaseModel"
   ]
  },
  {
   "cell_type": "code",
   "execution_count": 6,
   "id": "1c4e33fe",
   "metadata": {},
   "outputs": [
    {
     "name": "stdout",
     "output_type": "stream",
     "text": [
      "Person(name='Rohan', age=21, city='Noida')\n",
      "<class '__main__.Person'>\n"
     ]
    }
   ],
   "source": [
    "from dataclasses import dataclass\n",
    "\n",
    "@dataclass\n",
    "class Person:\n",
    "    name: str\n",
    "    age: int\n",
    "    city: str\n",
    "\n",
    "person = Person(name=\"Rohan\", age=21, city=\"Noida\")\n",
    "print(person)\n",
    "print(type(person))"
   ]
  },
  {
   "cell_type": "code",
   "execution_count": 2,
   "id": "b933efb0",
   "metadata": {},
   "outputs": [
    {
     "name": "stdout",
     "output_type": "stream",
     "text": [
      "name='Rohan' age=21 city='Noida'\n"
     ]
    }
   ],
   "source": [
    "class Person(BaseModel):\n",
    "    name: str\n",
    "    age: int\n",
    "    city: str\n",
    "\n",
    "person = Person(name=\"Rohan\", age=21, city=\"Noida\")\n",
    "print(person)"
   ]
  },
  {
   "cell_type": "code",
   "execution_count": 3,
   "id": "bc1e9991",
   "metadata": {},
   "outputs": [
    {
     "data": {
      "text/plain": [
       "__main__.Person"
      ]
     },
     "execution_count": 3,
     "metadata": {},
     "output_type": "execute_result"
    }
   ],
   "source": [
    "type(person)"
   ]
  },
  {
   "cell_type": "markdown",
   "id": "63b995af",
   "metadata": {},
   "source": [
    "#### 2. Model with Optional Fields\n",
    "\n",
    "Add optional fields using Python's Optional type:"
   ]
  },
  {
   "cell_type": "code",
   "execution_count": 7,
   "id": "ed81f411",
   "metadata": {},
   "outputs": [],
   "source": [
    "from typing import Optional\n",
    "\n",
    "class Employee(BaseModel):\n",
    "    id: int\n",
    "    name: str\n",
    "    department: str\n",
    "    salary: Optional[float] = None  # Optional field with default value None\n",
    "    is_active: bool = True  # Optional field with default value True     "
   ]
  },
  {
   "cell_type": "code",
   "execution_count": 8,
   "id": "28071d37",
   "metadata": {},
   "outputs": [
    {
     "name": "stdout",
     "output_type": "stream",
     "text": [
      "id=1 name='John' department='IT' salary=None is_active=True\n"
     ]
    }
   ],
   "source": [
    "# Example usage\n",
    "emp1 = Employee(id=1, name=\"John\", department=\"IT\")\n",
    "print(emp1) # Output: id=1 name='John' department='IT' salary=None is_active=True"
   ]
  },
  {
   "cell_type": "code",
   "execution_count": 9,
   "id": "aa2d9ece",
   "metadata": {},
   "outputs": [
    {
     "name": "stdout",
     "output_type": "stream",
     "text": [
      "id=2 name='Jane' department='HR' salary=50000.0 is_active=False\n"
     ]
    }
   ],
   "source": [
    "emp2 = Employee(id=2, name=\"Jane\", department=\"HR\", salary=50000.0, is_active=False)\n",
    "print(emp2) # Output: id=2 name='Jane' department='HR' salary=50000.0 is_active=False"
   ]
  },
  {
   "cell_type": "markdown",
   "id": "f4b42659",
   "metadata": {},
   "source": [
    "Definition:\n",
    "- Optional[type]: Indicates the field can be None\n",
    "\n",
    "- Default value (= None or = True): Makes the field optional\n",
    "\n",
    "- Required fields must still be provided\n",
    "\n",
    "- Pydantic validates types even for optional fields when values are provided"
   ]
  },
  {
   "cell_type": "code",
   "execution_count": 10,
   "id": "b93263ba",
   "metadata": {},
   "outputs": [],
   "source": [
    "from pydantic import BaseModel\n",
    "from typing import List\n",
    "\n",
    "class Classroom(BaseModel):\n",
    "    room_number: str\n",
    "    students: List[str]\n",
    "    capacity: int  "
   ]
  },
  {
   "cell_type": "code",
   "execution_count": 12,
   "id": "8102dac3",
   "metadata": {},
   "outputs": [
    {
     "name": "stdout",
     "output_type": "stream",
     "text": [
      "room_number='A101' students=['Alice', 'Bob', 'Charlie'] capacity=30\n"
     ]
    }
   ],
   "source": [
    "# Create a classroom instance\n",
    "classroom = Classroom(room_number=\"A101\", \n",
    "                      students=(\"Alice\", \"Bob\", \"Charlie\"), \n",
    "                      capacity=30)\n",
    "print(classroom)  # Output: room_number='A101' students=['Alice', 'Bob', 'Charlie'] capacity=30"
   ]
  },
  {
   "cell_type": "code",
   "execution_count": 13,
   "id": "b83b5d79",
   "metadata": {},
   "outputs": [
    {
     "name": "stdout",
     "output_type": "stream",
     "text": [
      "Validation error: 1 validation error for Classroom\n",
      "students.1\n",
      "  Input should be a valid string [type=string_type, input_value=123, input_type=int]\n",
      "    For further information visit https://errors.pydantic.dev/2.11/v/string_type\n"
     ]
    }
   ],
   "source": [
    "try:\n",
    "    invalid_val = Classroom(room_number=\"A1\", students=[\"Rohan\", 123], capacity=30)\n",
    "except ValueError as e:\n",
    "    print(f\"Validation error: {e}\")"
   ]
  },
  {
   "cell_type": "markdown",
   "id": "7364daa4",
   "metadata": {},
   "source": [
    "#### 4. Model with Nested Models\n",
    "\n",
    "Create complex structures with nested models:"
   ]
  },
  {
   "cell_type": "code",
   "execution_count": 17,
   "id": "32a208aa",
   "metadata": {},
   "outputs": [
    {
     "name": "stdout",
     "output_type": "stream",
     "text": [
      "customer_id=1 name='Alice' address=Address(street='123 Main St', city='Wonderland', zip_code='12345')\n"
     ]
    }
   ],
   "source": [
    "from pydantic import BaseModel\n",
    "\n",
    "class Address(BaseModel):\n",
    "    street: str\n",
    "    city: str\n",
    "    zip_code: str\n",
    "\n",
    "class Customer(BaseModel):\n",
    "    customer_id: int  # fixed typo here\n",
    "    name: str\n",
    "    address: Address  # Nested model\n",
    "\n",
    "# Create a customer instance with nested address\n",
    "customer = Customer(\n",
    "    customer_id=1,\n",
    "    name=\"Alice\",\n",
    "    address={\"street\": \"123 Main St\", \"city\": \"Wonderland\", \"zip_code\": \"12345\"}\n",
    ")\n",
    "print(customer)"
   ]
  },
  {
   "cell_type": "markdown",
   "id": "734eaffc",
   "metadata": {},
   "source": [
    "#### Pydantic Fields: Customization and Constraints\n",
    "\n",
    "The Field function in Pydantic enhances model fields beyond basic type hints by allowing you to specify validation rules, default values, alisas, and more."
   ]
  },
  {
   "cell_type": "code",
   "execution_count": 19,
   "id": "1ad1457e",
   "metadata": {},
   "outputs": [
    {
     "name": "stdout",
     "output_type": "stream",
     "text": [
      "name='Apple' price=0.5 quantity=10\n"
     ]
    }
   ],
   "source": [
    "from pydantic import BaseModel, Field\n",
    "class Item(BaseModel):\n",
    "    name: str=Field(min_length=2, max_length=50, description=\"Name of the item\")\n",
    "    price :float=Field(gt=0, description=\"Price of the item, must be greater than 0\")\n",
    "    quantity: int=Field(ge=0)\n",
    "\n",
    "# Valid instance\n",
    "item = Item(name=\"Apple\", price=0.5, quantity=10)\n",
    "print(item)"
   ]
  },
  {
   "cell_type": "code",
   "execution_count": 21,
   "id": "c1d944fb",
   "metadata": {},
   "outputs": [
    {
     "name": "stdout",
     "output_type": "stream",
     "text": [
      "username='john_doe' age=18 email='user@example.com'\n",
      "username='jane_doe' age=25 email='IbO5I@example.com'\n"
     ]
    }
   ],
   "source": [
    "from pydantic import BaseModel, Field\n",
    "\n",
    "class User(BaseModel):\n",
    "    username: str = Field(..., description=\"Unique username for the user\")\n",
    "    age: int = Field(default=18, description=\"Age of the user, default is 18\")\n",
    "    email: str = Field(default_factory=lambda: \"user@example.com\", description=\"Email address of the user\")\n",
    "\n",
    "# Example usage\n",
    "user1 = User(username=\"john_doe\")\n",
    "print(user1)  # Output: username='john_doe' age=18\n",
    "\n",
    "user2 = User(username=\"jane_doe\", age=25, email=\"IbO5I@example.com\")\n",
    "print(user2)  # Output: username='jane_doe' age=25"
   ]
  },
  {
   "cell_type": "code",
   "execution_count": 23,
   "id": "96a6577d",
   "metadata": {},
   "outputs": [
    {
     "name": "stdout",
     "output_type": "stream",
     "text": [
      "{'properties': {'username': {'description': 'Unique username for the user', 'title': 'Username', 'type': 'string'}, 'age': {'default': 18, 'description': 'Age of the user, default is 18', 'title': 'Age', 'type': 'integer'}, 'email': {'description': 'Email address of the user', 'title': 'Email', 'type': 'string'}}, 'required': ['username'], 'title': 'User', 'type': 'object'}\n"
     ]
    }
   ],
   "source": [
    "print(User.model_json_schema())"
   ]
  }
 ],
 "metadata": {
  "kernelspec": {
   "display_name": "Python 3",
   "language": "python",
   "name": "python3"
  },
  "language_info": {
   "codemirror_mode": {
    "name": "ipython",
    "version": 3
   },
   "file_extension": ".py",
   "mimetype": "text/x-python",
   "name": "python",
   "nbconvert_exporter": "python",
   "pygments_lexer": "ipython3",
   "version": "3.11.9"
  }
 },
 "nbformat": 4,
 "nbformat_minor": 5
}
