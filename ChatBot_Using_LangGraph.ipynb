{
 "cells": [
  {
   "cell_type": "markdown",
   "id": "f69a3ad7",
   "metadata": {},
   "source": [
    "# ChatBot With LangGraph"
   ]
  },
  {
   "cell_type": "code",
   "execution_count": 1,
   "id": "ca3c2fca",
   "metadata": {},
   "outputs": [],
   "source": [
    "import os\n",
    "import load_dotenv\n",
    "load_dotenv.load_dotenv()\n",
    "groq_api_key = os.getenv(\"GROQ_API_KEY\")\n",
    "langsmith_api_key = os.getenv(\"LANGSMITH_API_KEY\")"
   ]
  },
  {
   "cell_type": "code",
   "execution_count": 2,
   "id": "5197f43d",
   "metadata": {},
   "outputs": [],
   "source": [
    "import os\n",
    "os.environ[\"LANGCHAIN_API_KEY\"] = langsmith_api_key\n",
    "os.environ[\"LANGCHAIN_TRACING_V2\"] = \"true\"\n",
    "os.environ[\"LANGCHAIN_PROJECT\"] = \"langgraph\""
   ]
  },
  {
   "cell_type": "code",
   "execution_count": 3,
   "id": "0cf73c56",
   "metadata": {},
   "outputs": [],
   "source": [
    "from langchain_groq import ChatGroq"
   ]
  },
  {
   "cell_type": "code",
   "execution_count": 4,
   "id": "88478358",
   "metadata": {},
   "outputs": [
    {
     "data": {
      "text/plain": [
       "ChatGroq(client=<groq.resources.chat.completions.Completions object at 0x000001D99D209FD0>, async_client=<groq.resources.chat.completions.AsyncCompletions object at 0x000001D99E6F07D0>, model_name='Gemma2-9b-It', model_kwargs={}, groq_api_key=SecretStr('**********'))"
      ]
     },
     "execution_count": 4,
     "metadata": {},
     "output_type": "execute_result"
    }
   ],
   "source": [
    "llm = ChatGroq(\n",
    "    groq_api_key=groq_api_key,\n",
    "    model=\"Gemma2-9b-It\",\n",
    ")\n",
    "llm"
   ]
  },
  {
   "cell_type": "markdown",
   "id": "5b6fbb0f",
   "metadata": {},
   "source": [
    "## Start building chatbot using Langgraph"
   ]
  },
  {
   "cell_type": "code",
   "execution_count": 5,
   "id": "15351c76",
   "metadata": {},
   "outputs": [],
   "source": [
    "from typing import Annotated\n",
    "from typing_extensions import TypedDict\n",
    "from langgraph.graph import StateGraph, START, END\n",
    "from langgraph.graph.message import add_messages"
   ]
  },
  {
   "cell_type": "code",
   "execution_count": 6,
   "id": "b21d9cb4",
   "metadata": {},
   "outputs": [],
   "source": [
    "class State(TypedDict):\n",
    "    # Messages have the type \"list\". The 'add_messages' function \n",
    "    # in the annotation defines how this state key should be updated\n",
    "    # (in this case, it appends messages to the list, rather than overwriting them)\n",
    "    messages:Annotated[list, add_messages]\n",
    "\n",
    "graph_builder = StateGraph(State)"
   ]
  },
  {
   "cell_type": "code",
   "execution_count": 7,
   "id": "70bff033",
   "metadata": {},
   "outputs": [
    {
     "data": {
      "text/plain": [
       "<langgraph.graph.state.StateGraph at 0x1d99e8cc650>"
      ]
     },
     "execution_count": 7,
     "metadata": {},
     "output_type": "execute_result"
    }
   ],
   "source": [
    "graph_builder"
   ]
  },
  {
   "cell_type": "code",
   "execution_count": 8,
   "id": "35237576",
   "metadata": {},
   "outputs": [],
   "source": [
    "def chatbot(state:State):\n",
    "    return {\"messages\":llm.invoke(state['messages'])}"
   ]
  },
  {
   "cell_type": "code",
   "execution_count": 9,
   "id": "9f42aa12",
   "metadata": {},
   "outputs": [
    {
     "data": {
      "text/plain": [
       "<langgraph.graph.state.StateGraph at 0x1d99e8cc650>"
      ]
     },
     "execution_count": 9,
     "metadata": {},
     "output_type": "execute_result"
    }
   ],
   "source": [
    "graph_builder.add_node(\"chatbot\", chatbot)"
   ]
  },
  {
   "cell_type": "code",
   "execution_count": 10,
   "id": "3f44dd14",
   "metadata": {},
   "outputs": [
    {
     "data": {
      "text/plain": [
       "<langgraph.graph.state.StateGraph at 0x1d99e8cc650>"
      ]
     },
     "execution_count": 10,
     "metadata": {},
     "output_type": "execute_result"
    }
   ],
   "source": [
    "graph_builder.add_edge(START, \"chatbot\")\n",
    "graph_builder.add_edge(\"chatbot\", END)"
   ]
  },
  {
   "cell_type": "code",
   "execution_count": 11,
   "id": "029be615",
   "metadata": {},
   "outputs": [],
   "source": [
    "graph = graph_builder.compile()"
   ]
  },
  {
   "cell_type": "code",
   "execution_count": 12,
   "id": "0e4f0db8",
   "metadata": {},
   "outputs": [
    {
     "data": {
      "image/png": "[encoded data removed]",
      "text/plain": [
       "<langgraph.graph.state.CompiledStateGraph object at 0x000001D99E8CC710>"
      ]
     },
     "execution_count": 12,
     "metadata": {},
     "output_type": "execute_result"
    }
   ],
   "source": [
    "graph"
   ]
  },
  {
   "cell_type": "code",
   "execution_count": 13,
   "id": "8b810d50",
   "metadata": {},
   "outputs": [
    {
     "data": {
      "image/png": "[encoded data removed]",
      "text/plain": [
       "<IPython.core.display.Image object>"
      ]
     },
     "metadata": {},
     "output_type": "display_data"
    }
   ],
   "source": [
    "from IPython.display import display, Image\n",
    "try:\n",
    "    display(Image(graph.get_graph().draw_mermaid_png()))\n",
    "except Exception as e:\n",
    "    pass"
   ]
  },
  {
   "cell_type": "code",
   "execution_count": 14,
   "id": "c1092532",
   "metadata": {},
   "outputs": [
    {
     "name": "stdout",
     "output_type": "stream",
     "text": [
      "dict_values([{'messages': AIMessage(content='Please provide me with the context or a prompt so I can assist you. For example, you could ask:\\n\\n* **\"Write a short story about a robot who learns to feel emotions.\"**\\n* **\"Summarize the plot of the novel Pride and Prejudice.\"**\\n* **\"Translate \\'Hello, how are you?\\' into Spanish.\"**\\n\\nI\\'m ready to help with a wide range of tasks, so just let me know what you need! 😊\\n\\n', additional_kwargs={}, response_metadata={'token_usage': {'completion_tokens': 100, 'prompt_tokens': 9, 'total_tokens': 109, 'completion_time': 0.181818182, 'prompt_time': 0.00117252, 'queue_time': 0.25696875199999997, 'total_time': 0.182990702}, 'model_name': 'Gemma2-9b-It', 'system_fingerprint': 'fp_10c08bf97d', 'finish_reason': 'stop', 'logprobs': None}, id='run--139eb3b2-7bde-4e5a-be1e-91365511228f-0', usage_metadata={'input_tokens': 9, 'output_tokens': 100, 'total_tokens': 109})}])\n",
      "content='Please provide me with the context or a prompt so I can assist you. For example, you could ask:\\n\\n* **\"Write a short story about a robot who learns to feel emotions.\"**\\n* **\"Summarize the plot of the novel Pride and Prejudice.\"**\\n* **\"Translate \\'Hello, how are you?\\' into Spanish.\"**\\n\\nI\\'m ready to help with a wide range of tasks, so just let me know what you need! 😊\\n\\n' additional_kwargs={} response_metadata={'token_usage': {'completion_tokens': 100, 'prompt_tokens': 9, 'total_tokens': 109, 'completion_time': 0.181818182, 'prompt_time': 0.00117252, 'queue_time': 0.25696875199999997, 'total_time': 0.182990702}, 'model_name': 'Gemma2-9b-It', 'system_fingerprint': 'fp_10c08bf97d', 'finish_reason': 'stop', 'logprobs': None} id='run--139eb3b2-7bde-4e5a-be1e-91365511228f-0' usage_metadata={'input_tokens': 9, 'output_tokens': 100, 'total_tokens': 109}\n",
      "Assistant: Please provide me with the context or a prompt so I can assist you. For example, you could ask:\n",
      "\n",
      "* **\"Write a short story about a robot who learns to feel emotions.\"**\n",
      "* **\"Summarize the plot of the novel Pride and Prejudice.\"**\n",
      "* **\"Translate 'Hello, how are you?' into Spanish.\"**\n",
      "\n",
      "I'm ready to help with a wide range of tasks, so just let me know what you need! 😊\n",
      "\n",
      "\n",
      "dict_values([{'messages': AIMessage(content=\"Generative AI is a type of artificial intelligence that focuses on creating new content, rather than simply analyzing existing data. \\n\\nThink of it like this:\\n\\n* **Traditional AI:**  Analyzes data to find patterns and make predictions (e.g., recommending a movie, filtering spam).\\n* **Generative AI:** Uses learned patterns to generate new data that resembles the training data (e.g., writing a poem, composing music, creating an image).\\n\\n**Here's what makes generative AI special:**\\n\\n* **Creativity:** It can produce original content that doesn't simply copy existing examples.\\n* **Versatility:** It can generate various types of content, including text, images, audio, video, and even code.\\n* **Potential:** It has the potential to revolutionize many industries, from art and entertainment to healthcare and education.\\n\\n**Some popular examples of generative AI:**\\n\\n* **Text:** ChatGPT, Bard, Jasper\\n* **Images:** DALL-E 2, Stable Diffusion, Midjourney\\n* **Audio:** Jukebox, MuseNet\\n* **Code:** GitHub Copilot\\n\\n**How does it work?**\\n\\nGenerative AI models are typically trained on massive datasets of existing content. They learn the underlying patterns and structures within the data. Then, they use this knowledge to generate new content that follows similar patterns.\\n\\n**Key techniques used in generative AI:**\\n\\n* **Deep learning:**  A type of machine learning that uses artificial neural networks with many layers.\\n* **Generative Adversarial Networks (GANs):**  A framework where two neural networks compete against each other, one generating content and the other evaluating its quality.\\n* **Transformer networks:** A type of neural network architecture particularly good at understanding and generating text.\\n\\n**Generative AI is still a rapidly evolving field, but it's already making a significant impact on the world.**\\n\\n\\nLet me know if you have any other questions about generative AI!\\n\", additional_kwargs={}, response_metadata={'token_usage': {'completion_tokens': 406, 'prompt_tokens': 13, 'total_tokens': 419, 'completion_time': 0.738181818, 'prompt_time': 0.00124977, 'queue_time': 0.25231618100000003, 'total_time': 0.739431588}, 'model_name': 'Gemma2-9b-It', 'system_fingerprint': 'fp_10c08bf97d', 'finish_reason': 'stop', 'logprobs': None}, id='run--5d882272-d242-450a-be66-c71adbb62f98-0', usage_metadata={'input_tokens': 13, 'output_tokens': 406, 'total_tokens': 419})}])\n",
      "content=\"Generative AI is a type of artificial intelligence that focuses on creating new content, rather than simply analyzing existing data. \\n\\nThink of it like this:\\n\\n* **Traditional AI:**  Analyzes data to find patterns and make predictions (e.g., recommending a movie, filtering spam).\\n* **Generative AI:** Uses learned patterns to generate new data that resembles the training data (e.g., writing a poem, composing music, creating an image).\\n\\n**Here's what makes generative AI special:**\\n\\n* **Creativity:** It can produce original content that doesn't simply copy existing examples.\\n* **Versatility:** It can generate various types of content, including text, images, audio, video, and even code.\\n* **Potential:** It has the potential to revolutionize many industries, from art and entertainment to healthcare and education.\\n\\n**Some popular examples of generative AI:**\\n\\n* **Text:** ChatGPT, Bard, Jasper\\n* **Images:** DALL-E 2, Stable Diffusion, Midjourney\\n* **Audio:** Jukebox, MuseNet\\n* **Code:** GitHub Copilot\\n\\n**How does it work?**\\n\\nGenerative AI models are typically trained on massive datasets of existing content. They learn the underlying patterns and structures within the data. Then, they use this knowledge to generate new content that follows similar patterns.\\n\\n**Key techniques used in generative AI:**\\n\\n* **Deep learning:**  A type of machine learning that uses artificial neural networks with many layers.\\n* **Generative Adversarial Networks (GANs):**  A framework where two neural networks compete against each other, one generating content and the other evaluating its quality.\\n* **Transformer networks:** A type of neural network architecture particularly good at understanding and generating text.\\n\\n**Generative AI is still a rapidly evolving field, but it's already making a significant impact on the world.**\\n\\n\\nLet me know if you have any other questions about generative AI!\\n\" additional_kwargs={} response_metadata={'token_usage': {'completion_tokens': 406, 'prompt_tokens': 13, 'total_tokens': 419, 'completion_time': 0.738181818, 'prompt_time': 0.00124977, 'queue_time': 0.25231618100000003, 'total_time': 0.739431588}, 'model_name': 'Gemma2-9b-It', 'system_fingerprint': 'fp_10c08bf97d', 'finish_reason': 'stop', 'logprobs': None} id='run--5d882272-d242-450a-be66-c71adbb62f98-0' usage_metadata={'input_tokens': 13, 'output_tokens': 406, 'total_tokens': 419}\n",
      "Assistant: Generative AI is a type of artificial intelligence that focuses on creating new content, rather than simply analyzing existing data. \n",
      "\n",
      "Think of it like this:\n",
      "\n",
      "* **Traditional AI:**  Analyzes data to find patterns and make predictions (e.g., recommending a movie, filtering spam).\n",
      "* **Generative AI:** Uses learned patterns to generate new data that resembles the training data (e.g., writing a poem, composing music, creating an image).\n",
      "\n",
      "**Here's what makes generative AI special:**\n",
      "\n",
      "* **Creativity:** It can produce original content that doesn't simply copy existing examples.\n",
      "* **Versatility:** It can generate various types of content, including text, images, audio, video, and even code.\n",
      "* **Potential:** It has the potential to revolutionize many industries, from art and entertainment to healthcare and education.\n",
      "\n",
      "**Some popular examples of generative AI:**\n",
      "\n",
      "* **Text:** ChatGPT, Bard, Jasper\n",
      "* **Images:** DALL-E 2, Stable Diffusion, Midjourney\n",
      "* **Audio:** Jukebox, MuseNet\n",
      "* **Code:** GitHub Copilot\n",
      "\n",
      "**How does it work?**\n",
      "\n",
      "Generative AI models are typically trained on massive datasets of existing content. They learn the underlying patterns and structures within the data. Then, they use this knowledge to generate new content that follows similar patterns.\n",
      "\n",
      "**Key techniques used in generative AI:**\n",
      "\n",
      "* **Deep learning:**  A type of machine learning that uses artificial neural networks with many layers.\n",
      "* **Generative Adversarial Networks (GANs):**  A framework where two neural networks compete against each other, one generating content and the other evaluating its quality.\n",
      "* **Transformer networks:** A type of neural network architecture particularly good at understanding and generating text.\n",
      "\n",
      "**Generative AI is still a rapidly evolving field, but it's already making a significant impact on the world.**\n",
      "\n",
      "\n",
      "Let me know if you have any other questions about generative AI!\n",
      "\n",
      "dict_values([{'messages': AIMessage(content='The most common translation of \"Hello, how are you?\" in Spanish is:\\n\\n**Hola, ¿cómo estás?** \\n\\n(This is used when speaking to one person informally.)\\n\\nHere are some other options depending on the context:\\n\\n* **Hola, ¿cómo están?** (Formal, used for multiple people)\\n* **¿Cómo te va?** (Informal, more casual)\\n* **¿Cómo está usted?** (Formal, used for one person)\\n\\n\\nLet me know if you have any other phrases you\\'d like translated!\\n', additional_kwargs={}, response_metadata={'token_usage': {'completion_tokens': 118, 'prompt_tokens': 20, 'total_tokens': 138, 'completion_time': 0.214545455, 'prompt_time': 0.00132604, 'queue_time': 0.25232675000000004, 'total_time': 0.215871495}, 'model_name': 'Gemma2-9b-It', 'system_fingerprint': 'fp_10c08bf97d', 'finish_reason': 'stop', 'logprobs': None}, id='run--c6606191-843d-4787-bfe2-a32674af25a4-0', usage_metadata={'input_tokens': 20, 'output_tokens': 118, 'total_tokens': 138})}])\n",
      "content='The most common translation of \"Hello, how are you?\" in Spanish is:\\n\\n**Hola, ¿cómo estás?** \\n\\n(This is used when speaking to one person informally.)\\n\\nHere are some other options depending on the context:\\n\\n* **Hola, ¿cómo están?** (Formal, used for multiple people)\\n* **¿Cómo te va?** (Informal, more casual)\\n* **¿Cómo está usted?** (Formal, used for one person)\\n\\n\\nLet me know if you have any other phrases you\\'d like translated!\\n' additional_kwargs={} response_metadata={'token_usage': {'completion_tokens': 118, 'prompt_tokens': 20, 'total_tokens': 138, 'completion_time': 0.214545455, 'prompt_time': 0.00132604, 'queue_time': 0.25232675000000004, 'total_time': 0.215871495}, 'model_name': 'Gemma2-9b-It', 'system_fingerprint': 'fp_10c08bf97d', 'finish_reason': 'stop', 'logprobs': None} id='run--c6606191-843d-4787-bfe2-a32674af25a4-0' usage_metadata={'input_tokens': 20, 'output_tokens': 118, 'total_tokens': 138}\n",
      "Assistant: The most common translation of \"Hello, how are you?\" in Spanish is:\n",
      "\n",
      "**Hola, ¿cómo estás?** \n",
      "\n",
      "(This is used when speaking to one person informally.)\n",
      "\n",
      "Here are some other options depending on the context:\n",
      "\n",
      "* **Hola, ¿cómo están?** (Formal, used for multiple people)\n",
      "* **¿Cómo te va?** (Informal, more casual)\n",
      "* **¿Cómo está usted?** (Formal, used for one person)\n",
      "\n",
      "\n",
      "Let me know if you have any other phrases you'd like translated!\n",
      "\n",
      "Exiting the chatbot.\n"
     ]
    }
   ],
   "source": [
    "while True:\n",
    "    user_input = input(\"User: \")\n",
    "    if user_input.lower() in [\"exit\", \"quit\", \"q\"]:\n",
    "        print(\"Exiting the chatbot.\")\n",
    "        break\n",
    "    for event in graph.stream({'messages':(\"user\", user_input)}):\n",
    "        print(event.values())\n",
    "        for value in event.values():\n",
    "            print(value['messages'])\n",
    "            print(\"Assistant:\", value[\"messages\"].content)"
   ]
  }
 ],
 "metadata": {
  "kernelspec": {
   "display_name": "Python 3",
   "language": "python",
   "name": "python3"
  },
  "language_info": {
   "codemirror_mode": {
    "name": "ipython",
    "version": 3
   },
   "file_extension": ".py",
   "mimetype": "text/x-python",
   "name": "python",
   "nbconvert_exporter": "python",
   "pygments_lexer": "ipython3",
   "version": "3.11.9"
  }
 },
 "nbformat": 4,
 "nbformat_minor": 5
}
